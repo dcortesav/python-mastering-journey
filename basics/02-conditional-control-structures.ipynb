{
 "cells": [
  {
   "cell_type": "markdown",
   "metadata": {},
   "source": [
    "# Conditional Control Structures"
   ]
  },
  {
   "cell_type": "markdown",
   "metadata": {},
   "source": [
    "# 1. Boolean Values and Expressions"
   ]
  },
  {
   "cell_type": "markdown",
   "metadata": {},
   "source": [
    "Python allows to store logic values, that means, either **`True`** (1) or **`False`** (0). This type of values are known as boolean.\n",
    "Since Python is case-sensitive, **`True`** and **`False`** are **not strings**."
   ]
  },
  {
   "cell_type": "code",
   "execution_count": 1,
   "metadata": {},
   "outputs": [
    {
     "name": "stdout",
     "output_type": "stream",
     "text": [
      "True\n",
      "<class 'bool'>\n",
      "<class 'bool'>\n",
      "<class 'str'>\n"
     ]
    }
   ],
   "source": [
    "print(True)\n",
    "print(type(True))\n",
    "print(type(False))\n",
    "print(type(\"True\"))"
   ]
  },
  {
   "cell_type": "markdown",
   "metadata": {},
   "source": [
    "A boolean expression is an expression that returns a boolean value as its result. For instance, the equal operator (**==**), which returns **`True`** when two values being compared are equal, or **`False`** when they are not."
   ]
  },
  {
   "cell_type": "code",
   "execution_count": 2,
   "metadata": {},
   "outputs": [
    {
     "name": "stdout",
     "output_type": "stream",
     "text": [
      "False\n",
      "True\n"
     ]
    }
   ],
   "source": [
    "print(100 == 10)\n",
    "print(100 == 100)"
   ]
  },
  {
   "cell_type": "markdown",
   "metadata": {},
   "source": [
    "In total, there are six **comparation operators** supported by Python:"
   ]
  },
  {
   "cell_type": "code",
   "execution_count": 3,
   "metadata": {},
   "outputs": [
    {
     "name": "stdout",
     "output_type": "stream",
     "text": [
      "False\n",
      "True\n",
      "True\n",
      "False\n",
      "True\n",
      "False\n"
     ]
    }
   ],
   "source": [
    "x = 1\n",
    "y = 2\n",
    "\n",
    "print(x == y)\n",
    "print(x != y)\n",
    "print(x < y)\n",
    "print(x > y)\n",
    "print(x <= y)\n",
    "print(x >= y)"
   ]
  },
  {
   "cell_type": "markdown",
   "metadata": {},
   "source": [
    "# 2. Logical Operators"
   ]
  },
  {
   "cell_type": "markdown",
   "metadata": {},
   "source": [
    "There are three main logical operators: **`and`**, **`or`** and **`not`**. Their meaning can be better understood through the concept of truth tables and in the engineering field it's also nice to have some understanding of analog and digital electronics, which are the base over which this implementations are build."
   ]
  },
  {
   "cell_type": "code",
   "execution_count": 4,
   "metadata": {},
   "outputs": [
    {
     "name": "stdout",
     "output_type": "stream",
     "text": [
      "True\n",
      "False\n",
      "False\n"
     ]
    }
   ],
   "source": [
    "x = 3\n",
    "y = 10\n",
    "\n",
    "print(x < y and x <= y) #Both True\n",
    "print(x < y and x > y) #Just one is True\n",
    "print(x == y and x > y) #Just one is True"
   ]
  },
  {
   "cell_type": "markdown",
   "metadata": {},
   "source": [
    "**`and`** operation returns **True** only if both conditions are met.\n",
    "\n",
    "|a|b|a and b|\n",
    "|---|---|---:|\n",
    "|False|False|False|\n",
    "|False|True|False|\n",
    "|True|False|False|\n",
    "|True|True|True|"
   ]
  },
  {
   "cell_type": "markdown",
   "metadata": {},
   "source": [
    "To illustrate how the **`or`** operator works, lets take a look  at its truth table and then at a representative code snippet.\n",
    "\n",
    "|a|b|a or b|\n",
    "|---|---|---:|\n",
    "|False|False|False|\n",
    "|False|True|True|\n",
    "|True|False|True\n",
    "|True|True|True|"
   ]
  },
  {
   "cell_type": "code",
   "execution_count": 5,
   "metadata": {},
   "outputs": [
    {
     "name": "stdout",
     "output_type": "stream",
     "text": [
      "False\n",
      "True\n",
      "True\n",
      "True\n"
     ]
    }
   ],
   "source": [
    "n = 1\n",
    "print(n % 2 == 0 or n % 3 == 0) #Both false\n",
    "\n",
    "n = 2\n",
    "print(n % 2 == 0 or n % 3 == 0) #Just the first one is True\n",
    "\n",
    "n = 3\n",
    "print(n % 2 == 0 or n % 3 == 0) #Just the second one is True\n",
    "\n",
    "n = 6\n",
    "print(n % 2 == 0 or n % 3 == 0) #Both are True"
   ]
  },
  {
   "cell_type": "markdown",
   "metadata": {},
   "source": [
    "Not operator is comparably easier to understand because it just inverts a boolean value.\n",
    "\n",
    "|a|not a|\n",
    "|---|---:|\n",
    "|False|True|\n",
    "|True|False|"
   ]
  },
  {
   "cell_type": "code",
   "execution_count": 6,
   "metadata": {},
   "outputs": [
    {
     "name": "stdout",
     "output_type": "stream",
     "text": [
      "True\n",
      "False\n"
     ]
    }
   ],
   "source": [
    "x = 1\n",
    "y = 2\n",
    "print(not x > y)\n",
    "print(not x < y)"
   ]
  },
  {
   "cell_type": "markdown",
   "metadata": {},
   "source": [
    "# 3. Operator Precedence"
   ]
  },
  {
   "cell_type": "markdown",
   "metadata": {},
   "source": [
    "It's important to know whats the level of importance that Python assigns to each of the operators.\n",
    "\n",
    "1- The highest level is assigned to the arithmetic operators in the following order: **exponent**, **multiplication** and **addition**.\n",
    "\n",
    "2- After come the relational operators such as **<**,**>**,**>=**, etc.\n",
    "\n",
    "3- At the last position remain the logical operators seen in the previous section (**and**, **or**, **not**)"
   ]
  },
  {
   "cell_type": "code",
   "execution_count": 7,
   "metadata": {},
   "outputs": [
    {
     "name": "stdout",
     "output_type": "stream",
     "text": [
      "False\n"
     ]
    }
   ],
   "source": [
    "x = 1\n",
    "y = 2\n",
    "print(x*5 >= 10 and y-6 <= 20)"
   ]
  },
  {
   "cell_type": "markdown",
   "metadata": {},
   "source": [
    "# 4. Conditional Execution - Binary Selection"
   ]
  },
  {
   "cell_type": "markdown",
   "metadata": {},
   "source": [
    "There are a lot of situations in which we need to make different decisions based on certain conditions. For this matter we can use **conditional sentences**. A binary selection refers to the situation under which we take a route or another depending on the output of a certain condition."
   ]
  },
  {
   "cell_type": "code",
   "execution_count": 8,
   "metadata": {},
   "outputs": [
    {
     "name": "stdout",
     "output_type": "stream",
     "text": [
      "15 is an odd number\n"
     ]
    }
   ],
   "source": [
    "x = 15\n",
    "\n",
    "if x % 2 == 0:\n",
    "    print(f'{x} is an even number')\n",
    "else:\n",
    "    print(f'{x} is an odd number')"
   ]
  },
  {
   "cell_type": "markdown",
   "metadata": {},
   "source": [
    "# 5. Nested Conditions\n",
    "\n",
    "We can also have conditionals within a block of another conditional. It's what in practice is known as nested conditions. A simple example is shown as follows:"
   ]
  },
  {
   "cell_type": "code",
   "execution_count": 9,
   "metadata": {},
   "outputs": [
    {
     "name": "stdout",
     "output_type": "stream",
     "text": [
      "x is greater than y\n"
     ]
    }
   ],
   "source": [
    "x = 15\n",
    "y = 4\n",
    "\n",
    "if x < y:\n",
    "    print('x is less than y')\n",
    "else:\n",
    "    if x > y:\n",
    "        print('x is greater than y')\n",
    "    else:\n",
    "        print('x and y are equal')"
   ]
  },
  {
   "cell_type": "markdown",
   "metadata": {},
   "source": [
    "**Exercise**: Write an program that takes 3 numbers and prints the greatest."
   ]
  },
  {
   "cell_type": "code",
   "execution_count": 10,
   "metadata": {},
   "outputs": [
    {
     "name": "stdout",
     "output_type": "stream",
     "text": [
      "-20.0\n",
      "-15.0\n",
      "-2.2\n",
      "The greatest number is: -2.2\n"
     ]
    }
   ],
   "source": [
    "n1 = float(input('Enter the first number: '))\n",
    "print(n1)\n",
    "n2 = float(input('Enter the second number: '))\n",
    "print(n2)\n",
    "n3 = float(input('Enter the third number: '))\n",
    "print(n3)\n",
    "\n",
    "if n1 > n2:\n",
    "    if n1 > n3:\n",
    "        print(f'The greatest number is: {n1}')\n",
    "    else:\n",
    "        print(f'The greatest number is: {n3}')\n",
    "else:\n",
    "    if n2 > n3:\n",
    "        print(f'The greatest number is: {n2}')\n",
    "    else:\n",
    "        print(f'The greatest number is: {n3}')"
   ]
  },
  {
   "cell_type": "markdown",
   "metadata": {},
   "source": [
    "A cleaner and perhaps most understandable way to code it would be as follows."
   ]
  },
  {
   "cell_type": "code",
   "execution_count": 11,
   "metadata": {},
   "outputs": [
    {
     "name": "stdout",
     "output_type": "stream",
     "text": [
      "-15.0\n",
      "24.0\n",
      "105.0\n",
      "The greatest number is: 105.0\n"
     ]
    }
   ],
   "source": [
    "n1 = float(input('Enter the first number: '))\n",
    "print(n1)\n",
    "n2 = float(input('Enter the second number: '))\n",
    "print(n2)\n",
    "n3 = float(input('Enter the third number: '))\n",
    "print(n3)\n",
    "\n",
    "if n1 >= n2 and n1 >= n3:\n",
    "    print(f'The greatest number is: {n1}')\n",
    "elif n2 >= n3:\n",
    "    print(f'The greatest number is: {n2}')\n",
    "else:\n",
    "    print(f'The greatest number is: {n3}')"
   ]
  },
  {
   "cell_type": "markdown",
   "metadata": {},
   "source": [
    "# Exercises"
   ]
  },
  {
   "cell_type": "markdown",
   "metadata": {},
   "source": [
    "1. Write a program that receives two intervals specified by their lower and upper limits as an input and determine if they intercept."
   ]
  },
  {
   "cell_type": "code",
   "execution_count": 12,
   "metadata": {},
   "outputs": [
    {
     "name": "stdout",
     "output_type": "stream",
     "text": [
      "2 8 5 11\n",
      "They intercept\n"
     ]
    }
   ],
   "source": [
    "#Split method splits a string into a list of elements separated by the character given as a parameter (space character by default)\n",
    "#Map function applies the function f to each element of the iterable I and returns a Map object, which most of the times is converted to a list --> map(f,I)\n",
    "l1, u1, l2, u2 = map(int, input('Enter the limits separated by a space: ').split())\n",
    "print(l1, u1, l2, u2)\n",
    "\n",
    "if l1 <= l2:\n",
    "    if u1 >= l2:\n",
    "        print('They intercept')\n",
    "    else:\n",
    "        print('They do not intercept')\n",
    "else:\n",
    "    if l1 <= u2:\n",
    "        print('They intercept')\n",
    "    else:\n",
    "        print('They do not intercept')"
   ]
  },
  {
   "cell_type": "markdown",
   "metadata": {},
   "source": [
    "A cleaner way to implemented is shown as follows."
   ]
  },
  {
   "cell_type": "code",
   "execution_count": 13,
   "metadata": {},
   "outputs": [
    {
     "name": "stdout",
     "output_type": "stream",
     "text": [
      "2 8 10 11\n",
      "They do not intercept\n"
     ]
    }
   ],
   "source": [
    "l1, u1, l2, u2 = map(int, input('Enter the limits separated by a space: ').split())\n",
    "print(l1, u1, l2, u2)\n",
    "\n",
    "if not(u1 < l2 or u2 < l1):\n",
    "    print('They intercept')\n",
    "else:\n",
    "    print('They do not intercept')"
   ]
  },
  {
   "cell_type": "markdown",
   "metadata": {},
   "source": [
    "2. Assign a boolean value to each o the following expressions.\n",
    "\n",
    "* 3 == 3 --> True\n",
    "* 3 != 3 --> False\n",
    "* 3 >= 4 --> False\n",
    "* not (3 < 4) False"
   ]
  },
  {
   "cell_type": "code",
   "execution_count": 14,
   "metadata": {},
   "outputs": [
    {
     "name": "stdout",
     "output_type": "stream",
     "text": [
      "True\n",
      "False\n",
      "False\n",
      "False\n"
     ]
    }
   ],
   "source": [
    "print(3==3)\n",
    "print(3!=3)\n",
    "print(3>=4)\n",
    "print(not 3<4)"
   ]
  },
  {
   "cell_type": "markdown",
   "metadata": {},
   "source": [
    "3. Write the logical opposite of the following conditions without using the **`not`** operator.\n",
    "\n",
    "* a > b --> a <= b\n",
    "* a >= b --> a < b\n",
    "* a >= 18  and  day == 3 --> a < 18 or day != 3\n",
    "* a >= 18  or  day != 3 --> a < 18 and day == 3"
   ]
  },
  {
   "cell_type": "markdown",
   "metadata": {},
   "source": [
    "4. Write a program that receives a number and then prints its absolute value."
   ]
  },
  {
   "cell_type": "code",
   "execution_count": 18,
   "metadata": {},
   "outputs": [
    {
     "name": "stdout",
     "output_type": "stream",
     "text": [
      "-27.0\n",
      "27.0\n"
     ]
    }
   ],
   "source": [
    "number = float(input('Enter a number: '.strip()))\n",
    "print(number)\n",
    "\n",
    "if number < 0:\n",
    "    print(-number)\n",
    "else:\n",
    "    print(number)"
   ]
  },
  {
   "cell_type": "markdown",
   "metadata": {},
   "source": [
    "5. Write a programs that receives the size of the three sides of a triangle and prints if it's an equilateral, isosceles or scalene triangle."
   ]
  },
  {
   "cell_type": "code",
   "execution_count": 16,
   "metadata": {},
   "outputs": [
    {
     "name": "stdout",
     "output_type": "stream",
     "text": [
      "8 1 8\n",
      "Isosceles triangle\n"
     ]
    }
   ],
   "source": [
    "side_1, side_2, side_3 = map(int,input('Enter the length of each side of the triangle: ').split())\n",
    "print(side_1,side_2,side_3)\n",
    "\n",
    "if side_1 == side_2 or side_1 == side_3:\n",
    "    if side_2 == side_3:\n",
    "        print('Equilateral triangle')\n",
    "    else:\n",
    "        print('Isosceles triangle')\n",
    "else:\n",
    "    if side_2 == side_3:\n",
    "        print('Isosceles triangle')\n",
    "    else:\n",
    "        print('Scalene triangle')\n"
   ]
  },
  {
   "cell_type": "markdown",
   "metadata": {},
   "source": [
    "A code with a more compact sintax is shown as follows."
   ]
  },
  {
   "cell_type": "code",
   "execution_count": 19,
   "metadata": {},
   "outputs": [
    {
     "name": "stdout",
     "output_type": "stream",
     "text": [
      "8.0 1.0 7.0\n",
      "Scalene triangle\n"
     ]
    }
   ],
   "source": [
    "side_1, side_2, side_3 = map(float,input('Enter the length of each side of the triangle: ').split())\n",
    "print(side_1,side_2,side_3)\n",
    "\n",
    "if side_1 == side_2 == side_3:\n",
    "    print('Equilateral triangle')\n",
    "elif side_1 == side_2 or side_1 == side_3 or side_2 == side_3:\n",
    "    print('Isosceles triangle')\n",
    "else:\n",
    "    print('Scalene triangle')"
   ]
  },
  {
   "cell_type": "markdown",
   "metadata": {},
   "source": [
    "**Note**: This material was taken and adapted from the book \"How to Think Like a Computer Scientist: Learning with Python 3\", and the course \"Computer Programming,\" developed by professor Fabio Gonzales and taught at the Universidad Nacional de Colombia. This notebook is a record of my Python learning journey."
   ]
  }
 ],
 "metadata": {
  "kernelspec": {
   "display_name": ".venv",
   "language": "python",
   "name": "python3"
  },
  "language_info": {
   "codemirror_mode": {
    "name": "ipython",
    "version": 3
   },
   "file_extension": ".py",
   "mimetype": "text/x-python",
   "name": "python",
   "nbconvert_exporter": "python",
   "pygments_lexer": "ipython3",
   "version": "3.12.7"
  }
 },
 "nbformat": 4,
 "nbformat_minor": 2
}
