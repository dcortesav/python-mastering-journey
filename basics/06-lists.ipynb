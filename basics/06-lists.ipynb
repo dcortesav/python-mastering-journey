{
 "cells": [
  {
   "cell_type": "markdown",
   "metadata": {},
   "source": [
    "# Lists"
   ]
  },
  {
   "cell_type": "markdown",
   "metadata": {},
   "source": [
    "# 1. Lists\n",
    "\n",
    "Lists are sequential collections of elements, where each element is identified by an index and can be of any type. There are various way in which lists can be created, being the most simple one the use of squared brackets **``[]``**."
   ]
  },
  {
   "cell_type": "code",
   "execution_count": 1,
   "metadata": {},
   "outputs": [
    {
     "name": "stdout",
     "output_type": "stream",
     "text": [
      "['String inside a list', 1, 2, -8.19, True, 'Another string', ['A list inside a list']]\n"
     ]
    }
   ],
   "source": [
    "list = ['String inside a list',1,2,-8.19,True,'Another string',['A list inside a list']]\n",
    "print(list)"
   ]
  },
  {
   "cell_type": "markdown",
   "metadata": {},
   "source": [
    "Lists are iterable elements, so that means that we can use the iteration structures such as the **``for``** loop to go through them."
   ]
  },
  {
   "cell_type": "code",
   "execution_count": 12,
   "metadata": {},
   "outputs": [
    {
     "name": "stdout",
     "output_type": "stream",
     "text": [
      "list[0] = String inside a list\n",
      "list[1] = 1\n",
      "list[2] = 2\n",
      "list[3] = -8.19\n",
      "list[4] = True\n",
      "list[5] = Another string\n",
      "list[6] = ['A list inside a list']\n",
      "\n",
      "String inside a list\n",
      "1\n",
      "2\n",
      "-8.19\n",
      "True\n",
      "Another string\n",
      "['A list inside a list']\n"
     ]
    }
   ],
   "source": [
    "list = ['String inside a list',1,2,-8.19,True,'Another string',['A list inside a list']]\n",
    "\n",
    "for i in range(len(list)):\n",
    "    print(f'list[{i}] = {list[i]}')\n",
    "print()\n",
    "for element in list:\n",
    "    print(element)"
   ]
  },
  {
   "cell_type": "markdown",
   "metadata": {},
   "source": [
    "Python also allows to traverse lists backwards. For this matter we use negative indexes. Index -1 refers to the last element in the list, -2 to the last but one element and so on."
   ]
  },
  {
   "cell_type": "code",
   "execution_count": 11,
   "metadata": {},
   "outputs": [
    {
     "name": "stdout",
     "output_type": "stream",
     "text": [
      "list[-7] = String inside a list\n",
      "list[-6] = 1\n",
      "list[-5] = 2\n",
      "list[-4] = -8.19\n",
      "list[-3] = True\n",
      "list[-2] = Another string\n",
      "list[-1] = ['A list inside a list']\n",
      "\n",
      "list[-1] = ['A list inside a list']\n",
      "list[-2] = Another string\n",
      "list[-3] = True\n",
      "list[-4] = -8.19\n",
      "list[-5] = 2\n",
      "list[-6] = 1\n",
      "list[-7] = String inside a list\n"
     ]
    }
   ],
   "source": [
    "list = ['String inside a list',1,2,-8.19,True,'Another string',['A list inside a list']]\n",
    "\n",
    "for i in range(-len(list),0):\n",
    "    print(f'list[{i}] = {list[i]}')\n",
    "print()\n",
    "for i in range(-1,-(len(list)+1),-1):\n",
    "    print(f'list[{i}] = {list[i]}')"
   ]
  },
  {
   "cell_type": "markdown",
   "metadata": {},
   "source": [
    "# 2. Operations With Lists"
   ]
  },
  {
   "cell_type": "markdown",
   "metadata": {},
   "source": [
    "There are many operations that can be done with lists. We will take a look at the most common ones. First, we have the **``in``** operator. It returns a boolean value that tells whether a value is part of a list or not."
   ]
  },
  {
   "cell_type": "code",
   "execution_count": 13,
   "metadata": {},
   "outputs": [
    {
     "name": "stdout",
     "output_type": "stream",
     "text": [
      "False\n",
      "True\n"
     ]
    }
   ],
   "source": [
    "list = ['String inside a list',1,2,-8.19,True,'Another string',['A list inside a list']]\n",
    "print(6 in list)\n",
    "print(2 in list)"
   ]
  },
  {
   "cell_type": "markdown",
   "metadata": {},
   "source": [
    "On the other hand, we can get the opposite result if we use the **``not in``** operator"
   ]
  },
  {
   "cell_type": "code",
   "execution_count": 14,
   "metadata": {},
   "outputs": [
    {
     "name": "stdout",
     "output_type": "stream",
     "text": [
      "True\n",
      "False\n"
     ]
    }
   ],
   "source": [
    "list = ['String inside a list',1,2,-8.19,True,'Another string',['A list inside a list']]\n",
    "print(6 not in list)\n",
    "print(2 not in list)"
   ]
  },
  {
   "cell_type": "markdown",
   "metadata": {},
   "source": [
    "We can also do list concatenation or multiplication."
   ]
  },
  {
   "cell_type": "code",
   "execution_count": 15,
   "metadata": {},
   "outputs": [
    {
     "name": "stdout",
     "output_type": "stream",
     "text": [
      "[1, 2, 3, 4, 5, 6, 7, 8]\n",
      "[5, 6, 7, 8, 1, 2, 3, 4]\n",
      "[1, 2, 3, 4, 1, 2, 3, 4]\n",
      "\n",
      "[1, 2, 3, 4, 1, 2, 3, 4, 1, 2, 3, 4]\n"
     ]
    }
   ],
   "source": [
    "list_1 = [1,2,3,4]\n",
    "list_2 = [5,6,7,8]\n",
    "print(list_1 + list_2)\n",
    "print(list_2 + list_1)\n",
    "print(list_1 + list_1)\n",
    "print()\n",
    "print(3*list_1)"
   ]
  },
  {
   "cell_type": "markdown",
   "metadata": {},
   "source": [
    "Subdividing lists? Sure, just use the same syntax introduced for substrings in one of the previous notebooks."
   ]
  },
  {
   "cell_type": "code",
   "execution_count": 16,
   "metadata": {},
   "outputs": [
    {
     "name": "stdout",
     "output_type": "stream",
     "text": [
      "[2, 3, 4, 5]\n",
      "[5, 6, 7, 8, 9]\n",
      "[0, 1, 2]\n"
     ]
    }
   ],
   "source": [
    "list = [0,1,2,3,4,5,6,7,8,9]\n",
    "print(list[2:6])\n",
    "print(list[5:])\n",
    "print(list[:3])"
   ]
  }
 ],
 "metadata": {
  "kernelspec": {
   "display_name": ".venv",
   "language": "python",
   "name": "python3"
  },
  "language_info": {
   "codemirror_mode": {
    "name": "ipython",
    "version": 3
   },
   "file_extension": ".py",
   "mimetype": "text/x-python",
   "name": "python",
   "nbconvert_exporter": "python",
   "pygments_lexer": "ipython3",
   "version": "3.12.7"
  }
 },
 "nbformat": 4,
 "nbformat_minor": 2
}
