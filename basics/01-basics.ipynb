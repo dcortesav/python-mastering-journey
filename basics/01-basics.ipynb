{
 "cells": [
  {
   "cell_type": "markdown",
   "metadata": {},
   "source": [
    "# Variables, data types, expressions, I/O"
   ]
  },
  {
   "cell_type": "markdown",
   "metadata": {},
   "source": [
    "# 1. Print sentence"
   ]
  },
  {
   "cell_type": "markdown",
   "metadata": {},
   "source": [
    "Traditionally, the first program written in a new language is called \"Hello world\". In Python it would be:"
   ]
  },
  {
   "cell_type": "code",
   "execution_count": 14,
   "metadata": {},
   "outputs": [
    {
     "name": "stdout",
     "output_type": "stream",
     "text": [
      "Hallo Welt\n",
      "Git is making me cry\n"
     ]
    }
   ],
   "source": [
    "print('Hallo Welt')\n",
    "print('Git is making me cry')"
   ]
  },
  {
   "cell_type": "markdown",
   "metadata": {},
   "source": [
    "The previous was an example of the \"print\" sentence, which shows the value written in between parenthesis. At follows another example is shown, in which the number 4 is printed:"
   ]
  },
  {
   "cell_type": "code",
   "execution_count": 15,
   "metadata": {},
   "outputs": [
    {
     "name": "stdout",
     "output_type": "stream",
     "text": [
      "4\n"
     ]
    }
   ],
   "source": [
    "print(4)"
   ]
  },
  {
   "cell_type": "markdown",
   "metadata": {},
   "source": [
    "# 2. Values and data types"
   ]
  },
  {
   "cell_type": "markdown",
   "metadata": {},
   "source": [
    "Values are one of the fundamental elements that is manipulated by a program. We have already used two values so far, the number 5, and the string \"Hallo Welt\".\n",
    "\n",
    "These values are from a different **type**. The number 5 is considered as an integer (**int**), while the string is considered, well, as a string (**str**), which is basically a series of individual characters put together.\n",
    "\n",
    "If there is uncertainty about to which type a value belongs to, one can always ask Python:"
   ]
  },
  {
   "cell_type": "code",
   "execution_count": 16,
   "metadata": {},
   "outputs": [
    {
     "name": "stdout",
     "output_type": "stream",
     "text": [
      "Hallo Welt\n",
      "<class 'str'>\n"
     ]
    }
   ],
   "source": [
    "print(\"Hallo Welt\")\n",
    "print(type(\"Hallo Welt\"))"
   ]
  },
  {
   "cell_type": "code",
   "execution_count": 17,
   "metadata": {},
   "outputs": [
    {
     "name": "stdout",
     "output_type": "stream",
     "text": [
      "22\n",
      "<class 'int'>\n"
     ]
    }
   ],
   "source": [
    "print(22)\n",
    "print(type(22))"
   ]
  },
  {
   "cell_type": "markdown",
   "metadata": {},
   "source": [
    "Decimal numbers (point separated) belong to the **float** type, because of the name of its way to be represented (**floating-point**)."
   ]
  },
  {
   "cell_type": "code",
   "execution_count": 18,
   "metadata": {},
   "outputs": [
    {
     "name": "stdout",
     "output_type": "stream",
     "text": [
      "14.5\n",
      "<class 'float'>\n"
     ]
    }
   ],
   "source": [
    "print(14.5)\n",
    "print(type(14.5))"
   ]
  },
  {
   "cell_type": "markdown",
   "metadata": {},
   "source": [
    "What about then with the values \"22\" and \"14.5\"?. Well, although they look like numbers, because they are enclosed within quotation marks Python consider them as a string:"
   ]
  },
  {
   "cell_type": "code",
   "execution_count": 19,
   "metadata": {},
   "outputs": [
    {
     "name": "stdout",
     "output_type": "stream",
     "text": [
      "<class 'str'>\n",
      "<class 'str'>\n"
     ]
    }
   ],
   "source": [
    "print(type(\"22\"))\n",
    "print(type(\"14.5\"))"
   ]
  },
  {
   "cell_type": "markdown",
   "metadata": {},
   "source": [
    "In Python, strings can be enclosed within simple quotation marks (**'_'**), double quotation marks (**\"_\"**), or a sequence of triple quotations marks, either simple (**'''_'''**) or double (**\"\"\"_\"\"\"**)."
   ]
  },
  {
   "cell_type": "code",
   "execution_count": 20,
   "metadata": {},
   "outputs": [
    {
     "name": "stdout",
     "output_type": "stream",
     "text": [
      "<class 'str'>\n",
      "<class 'str'>\n",
      "<class 'str'>\n",
      "<class 'str'>\n"
     ]
    }
   ],
   "source": [
    "print(type('This is a string'))\n",
    "print(type(\"This one also\"))\n",
    "print(type('''This one as well'''))\n",
    "print(type(\"\"\"And this one\"\"\"))"
   ]
  },
  {
   "cell_type": "markdown",
   "metadata": {},
   "source": [
    "Strings within simple quotation marks can contain double quotation marks or viceversa:\n"
   ]
  },
  {
   "cell_type": "code",
   "execution_count": 21,
   "metadata": {},
   "outputs": [
    {
     "name": "stdout",
     "output_type": "stream",
     "text": [
      "He said that I was \"A pain in the ass\"\n",
      "That's Mr. Sander's chicken\n"
     ]
    }
   ],
   "source": [
    "print('He said that I was \"A pain in the ass\"')\n",
    "print(\"That's Mr. Sander's chicken\")"
   ]
  },
  {
   "cell_type": "markdown",
   "metadata": {},
   "source": [
    "The use of triple quotation marks allows the string to ocuppy more than one line in the output:"
   ]
  },
  {
   "cell_type": "code",
   "execution_count": 22,
   "metadata": {},
   "outputs": [
    {
     "name": "stdout",
     "output_type": "stream",
     "text": [
      "This is\n",
      "a message\n",
      "divided in three lines\n"
     ]
    }
   ],
   "source": [
    "print('''This is\n",
    "a message\n",
    "divided in three lines''')"
   ]
  },
  {
   "cell_type": "markdown",
   "metadata": {},
   "source": [
    "One can also use formatting keys (or characters) such as **\\n**:"
   ]
  },
  {
   "cell_type": "code",
   "execution_count": 23,
   "metadata": {},
   "outputs": [
    {
     "name": "stdout",
     "output_type": "stream",
     "text": [
      "This is\n",
      "a message\n",
      "divided in three lines\n"
     ]
    }
   ],
   "source": [
    "print('This is\\na message\\ndivided in three lines')"
   ]
  },
  {
   "cell_type": "markdown",
   "metadata": {},
   "source": [
    "One could be tempted to use comas or points when writting a large number such as one million, which is usually written as 1,000,000. However, this is going to be treated by Python, and more specifically, by the print sentence, as three different values. In fact, one can print as many values as one want as long as they are coma separated:"
   ]
  },
  {
   "cell_type": "code",
   "execution_count": 24,
   "metadata": {},
   "outputs": [
    {
     "name": "stdout",
     "output_type": "stream",
     "text": [
      "1 0 0\n",
      "1 0 000\n",
      "Failed attempts: 99 Attempst left: 14.2 (Yes, 14.2 does not make sense)\n"
     ]
    }
   ],
   "source": [
    "print(1,000,000)\n",
    "print(1,000,'000')\n",
    "print(\"Failed attempts:\",99,\"Attempst left:\",14.2,'(Yes, 14.2 does not make sense)')"
   ]
  },
  {
   "cell_type": "markdown",
   "metadata": {},
   "source": [
    "**Conversions:** Sometimes it becomes necesssary to convert values from one type to another. Python provides us with some simple functions to do so. Functions **int()**, **float()**, and **str()** will **attempt** to convert the value given as an argument to its respective type.\n",
    "\n",
    "We call this functions **\"Type functions\"**.\n",
    "\n",
    "For instance, the **int()** function can take a floating-point number or a string, and turn it to an integer. When converting from a floating-point number, the **int()** function **trunks** the number by skipping the decimal part. This process is known as **\"zero trunking\"**."
   ]
  },
  {
   "cell_type": "code",
   "execution_count": 25,
   "metadata": {},
   "outputs": [
    {
     "name": "stdout",
     "output_type": "stream",
     "text": [
      "14.28 14\n",
      "22.9999 22\n",
      "3.0 3\n",
      "-2.677 -2\n",
      "12789 12789\n",
      "<class 'str'> <class 'int'>\n"
     ]
    }
   ],
   "source": [
    "print(14.28, int(14.28))\n",
    "print(22.9999, int(22.9999))\n",
    "print(3.0, int(3.0))\n",
    "print(-2.677, int(-2.677))\n",
    "\n",
    "print(\"12789\", int(\"12789\"))\n",
    "print(type(\"12789\"), type(int(\"12789\")))"
   ]
  },
  {
   "cell_type": "markdown",
   "metadata": {},
   "source": [
    "As we said, these functions will attempt to do the conversion, however, it's not always possible:"
   ]
  },
  {
   "cell_type": "code",
   "execution_count": 26,
   "metadata": {},
   "outputs": [
    {
     "ename": "ValueError",
     "evalue": "invalid literal for int() with base 10: '99Attempts'",
     "output_type": "error",
     "traceback": [
      "\u001b[1;31m---------------------------------------------------------------------------\u001b[0m",
      "\u001b[1;31mValueError\u001b[0m                                Traceback (most recent call last)",
      "Cell \u001b[1;32mIn[26], line 1\u001b[0m\n\u001b[1;32m----> 1\u001b[0m \u001b[38;5;28mprint\u001b[39m(\u001b[38;5;28;43mint\u001b[39;49m\u001b[43m(\u001b[49m\u001b[38;5;124;43m'\u001b[39;49m\u001b[38;5;124;43m99Attempts\u001b[39;49m\u001b[38;5;124;43m'\u001b[39;49m\u001b[43m)\u001b[49m)\n",
      "\u001b[1;31mValueError\u001b[0m: invalid literal for int() with base 10: '99Attempts'"
     ]
    }
   ],
   "source": [
    "print(int('99Attempts'))"
   ]
  },
  {
   "cell_type": "markdown",
   "metadata": {},
   "source": [
    "As follows the **float()** function being used is shown:"
   ]
  },
  {
   "cell_type": "code",
   "execution_count": 29,
   "metadata": {},
   "outputs": [
    {
     "name": "stdout",
     "output_type": "stream",
     "text": [
      "123.45 <class 'float'>\n",
      "123.45 <class 'str'>\n"
     ]
    }
   ],
   "source": [
    "print(float(\"123.45\"), type(float(\"123.45\")))\n",
    "print(str(123.45),type(str(123.45)))"
   ]
  },
  {
   "cell_type": "markdown",
   "metadata": {},
   "source": [
    "As a final notation, we can also write floating-point numbers using **scientific notation**:"
   ]
  },
  {
   "cell_type": "code",
   "execution_count": 30,
   "metadata": {},
   "outputs": [
    {
     "name": "stdout",
     "output_type": "stream",
     "text": [
      "31600.0 <class 'float'>\n",
      "419000.0 <class 'float'>\n"
     ]
    }
   ],
   "source": [
    "print(3.16e4, type(3.16e4))\n",
    "print(4.19E5, type(4.19E5))\n"
   ]
  },
  {
   "cell_type": "markdown",
   "metadata": {},
   "source": [
    "# 3. Variables"
   ]
  },
  {
   "cell_type": "markdown",
   "metadata": {},
   "source": [
    "One of the most powerful characteristics of programing languages is their ability to store and manipulate values. A variable could be defined as a name that creates a reference to a value. The assignment sentence creates a new variable and assigns it a new value."
   ]
  },
  {
   "cell_type": "code",
   "execution_count": 31,
   "metadata": {},
   "outputs": [],
   "source": [
    "message = 'Hallo, wie geht es dir?'\n",
    "intNumber = 42\n",
    "piNumber = 3.1416"
   ]
  },
  {
   "cell_type": "markdown",
   "metadata": {},
   "source": [
    "One should distinguish the assignment operator **(=)** from the equality token **(==)**"
   ]
  },
  {
   "cell_type": "code",
   "execution_count": 32,
   "metadata": {},
   "outputs": [
    {
     "name": "stdout",
     "output_type": "stream",
     "text": [
      "True\n",
      "False\n"
     ]
    }
   ],
   "source": [
    "print(2 == 1 + 1)\n",
    "print(3 == 1 + 1)"
   ]
  },
  {
   "cell_type": "markdown",
   "metadata": {},
   "source": [
    "The print sentence also works with variables:"
   ]
  },
  {
   "cell_type": "code",
   "execution_count": 33,
   "metadata": {},
   "outputs": [
    {
     "name": "stdout",
     "output_type": "stream",
     "text": [
      "Hallo, wie geht es dir?\n",
      "42\n",
      "3.1416\n"
     ]
    }
   ],
   "source": [
    "print(message)\n",
    "print(intNumber)\n",
    "print(piNumber)"
   ]
  },
  {
   "cell_type": "markdown",
   "metadata": {},
   "source": [
    "Variables also have a type, the same from the value they hold inside them:"
   ]
  },
  {
   "cell_type": "code",
   "execution_count": 34,
   "metadata": {},
   "outputs": [
    {
     "name": "stdout",
     "output_type": "stream",
     "text": [
      "<class 'str'>\n",
      "<class 'int'>\n",
      "<class 'float'>\n"
     ]
    }
   ],
   "source": [
    "print(type(message))\n",
    "print(type(intNumber))\n",
    "print(type(piNumber))"
   ]
  },
  {
   "cell_type": "code",
   "execution_count": 35,
   "metadata": {},
   "outputs": [
    {
     "name": "stdout",
     "output_type": "stream",
     "text": [
      "<class 'str'>\n",
      "<class 'int'>\n"
     ]
    }
   ],
   "source": [
    "n = \"2\"\n",
    "print(type(n))\n",
    "n = 2\n",
    "print(type(n))"
   ]
  },
  {
   "cell_type": "markdown",
   "metadata": {},
   "source": [
    "We use variables to \"remember\" things. However, as their name indicates it, they can change and be assigned different values during execution."
   ]
  },
  {
   "cell_type": "code",
   "execution_count": 36,
   "metadata": {},
   "outputs": [
    {
     "name": "stdout",
     "output_type": "stream",
     "text": [
      "Montag\n",
      "Dienstag\n",
      "13\n"
     ]
    }
   ],
   "source": [
    "day = \"Montag\"\n",
    "print(day)\n",
    "day = \"Dienstag\"\n",
    "print(day)\n",
    "day = 13\n",
    "print(day)"
   ]
  },
  {
   "cell_type": "markdown",
   "metadata": {},
   "source": [
    "# 4. Name of variables and reserved words"
   ]
  },
  {
   "cell_type": "markdown",
   "metadata": {},
   "source": [
    "The names used for variables can have an arbitrary length and be composed out of numbers and letters, but there is one rule: they have to start with a letter. It's also possible to use capital letters, but one has to keep in mind that Python is a case-sensitive programming language, which means that it can differentiate between capital and non-capital letters. Additionally, the underscore character is widely used in names composed out of two or more words."
   ]
  },
  {
   "cell_type": "code",
   "execution_count": 37,
   "metadata": {},
   "outputs": [
    {
     "name": "stdout",
     "output_type": "stream",
     "text": [
      "David\n",
      "Santiago\n"
     ]
    }
   ],
   "source": [
    "first_name = \"David\"\n",
    "First_name = \"Santiago\"\n",
    "print(first_name)\n",
    "print(First_name)"
   ]
  },
  {
   "cell_type": "markdown",
   "metadata": {},
   "source": [
    "There is also a list of words that cannot be used to define variables. These words are known as \"reserved words\" and are used by Python to define its rules and structure."
   ]
  },
  {
   "cell_type": "code",
   "execution_count": 38,
   "metadata": {},
   "outputs": [
    {
     "name": "stdout",
     "output_type": "stream",
     "text": [
      "\n",
      "Here is a list of the Python keywords.  Enter any keyword to get more help.\n",
      "\n",
      "False               class               from                or\n",
      "None                continue            global              pass\n",
      "True                def                 if                  raise\n",
      "and                 del                 import              return\n",
      "as                  elif                in                  try\n",
      "assert              else                is                  while\n",
      "async               except              lambda              with\n",
      "await               finally             nonlocal            yield\n",
      "break               for                 not                 \n",
      "\n"
     ]
    }
   ],
   "source": [
    "help(\"keywords\")"
   ]
  },
  {
   "cell_type": "markdown",
   "metadata": {},
   "source": [
    "# 5. Expressions"
   ]
  },
  {
   "cell_type": "markdown",
   "metadata": {},
   "source": [
    "Expressions are a combination of values, variables and operators. If an expression is typed in the command line, it will be evaluated and a result will be returned. The same happens for when an expression is given as input to the print function."
   ]
  },
  {
   "cell_type": "code",
   "execution_count": 39,
   "metadata": {},
   "outputs": [
    {
     "data": {
      "text/plain": [
       "17"
      ]
     },
     "execution_count": 39,
     "metadata": {},
     "output_type": "execute_result"
    }
   ],
   "source": [
    "8 + 9"
   ]
  },
  {
   "cell_type": "code",
   "execution_count": 40,
   "metadata": {},
   "outputs": [
    {
     "name": "stdout",
     "output_type": "stream",
     "text": [
      "14\n"
     ]
    }
   ],
   "source": [
    "print(22 - 8)"
   ]
  },
  {
   "cell_type": "markdown",
   "metadata": {},
   "source": [
    "## Operators"
   ]
  },
  {
   "cell_type": "markdown",
   "metadata": {},
   "source": [
    "Operators are special symbols which represent calculations such as addition, substracion, multiplication, division, and more."
   ]
  },
  {
   "cell_type": "code",
   "execution_count": 41,
   "metadata": {},
   "outputs": [
    {
     "name": "stdout",
     "output_type": "stream",
     "text": [
      "12\n",
      "-2\n",
      "35\n",
      "78125\n"
     ]
    }
   ],
   "source": [
    "print(5 + 7)\n",
    "print(5 - 7)\n",
    "print(5 * 7)\n",
    "print(5 ** 7)"
   ]
  },
  {
   "cell_type": "markdown",
   "metadata": {},
   "source": [
    "In Python 3, the division is represented by the symbol \"/\" and always return a floating point number:"
   ]
  },
  {
   "cell_type": "code",
   "execution_count": 42,
   "metadata": {},
   "outputs": [
    {
     "name": "stdout",
     "output_type": "stream",
     "text": [
      "2.4833333333333334\n"
     ]
    }
   ],
   "source": [
    "minutes = 149\n",
    "hours = minutes/60\n",
    "print(hours)"
   ]
  },
  {
   "cell_type": "markdown",
   "metadata": {},
   "source": [
    "For the previous example, what could we do if we were interested in knowing how many complete hours are left?. Then we should execute an integer division, which is indicated to Python when one uses the symbol \"//\":"
   ]
  },
  {
   "cell_type": "code",
   "execution_count": 43,
   "metadata": {},
   "outputs": [
    {
     "name": "stdout",
     "output_type": "stream",
     "text": [
      "Hours left: 2 Minutes left: 29\n"
     ]
    }
   ],
   "source": [
    "complete_hours = minutes//60\n",
    "minutes_left = minutes%60 #Residual indicates minutes left\n",
    "print(\"Hours left:\",complete_hours,\"Minutes left:\",minutes_left)"
   ]
  },
  {
   "cell_type": "markdown",
   "metadata": {},
   "source": [
    "## String handling"
   ]
  },
  {
   "cell_type": "markdown",
   "metadata": {},
   "source": [
    "There is a set of defined operations that can be performed on strings. To begin with, the \"**+**\" operator defines what is known as **concatenation**, which is just the combination of two strings by attaching the tail of the first one string to the head of the second:"
   ]
  },
  {
   "cell_type": "code",
   "execution_count": 44,
   "metadata": {},
   "outputs": [
    {
     "name": "stdout",
     "output_type": "stream",
     "text": [
      "Albert Einstein\n"
     ]
    }
   ],
   "source": [
    "first_name = \"Albert\"\n",
    "last_name = \"Einstein\"\n",
    "print(first_name + \" \" + last_name)"
   ]
  },
  {
   "cell_type": "markdown",
   "metadata": {},
   "source": [
    "Repetition of string can be performed through the use of the \"**\\***\" operator:"
   ]
  },
  {
   "cell_type": "code",
   "execution_count": 45,
   "metadata": {},
   "outputs": [
    {
     "name": "stdout",
     "output_type": "stream",
     "text": [
      "let's go! let's go! let's go! let's go! let's go! \n"
     ]
    }
   ],
   "source": [
    "props = \"let's go!\"\n",
    "print((props + \" \")*5)"
   ]
  },
  {
   "cell_type": "markdown",
   "metadata": {},
   "source": [
    "# 6. Formatted output"
   ]
  },
  {
   "cell_type": "markdown",
   "metadata": {},
   "source": [
    "The print function has different \"built in tools\" that can be used to give format to our output. As follows a glimpse to this is shown."
   ]
  },
  {
   "cell_type": "code",
   "execution_count": 46,
   "metadata": {},
   "outputs": [
    {
     "name": "stdout",
     "output_type": "stream",
     "text": [
      "string with line break\n",
      " and a double quatation mark symbol \"\n"
     ]
    }
   ],
   "source": [
    "print(\"string with line break\\n and a double quatation mark symbol \\\"\")"
   ]
  },
  {
   "cell_type": "code",
   "execution_count": 53,
   "metadata": {},
   "outputs": [
    {
     "name": "stdout",
     "output_type": "stream",
     "text": [
      "Hallo, du heißt Albert und bist 145 Jahre alt\n",
      "Hallo, du heißt Albert und bist 145 Jahre alt.\n"
     ]
    }
   ],
   "source": [
    "first_name = \"Albert\"\n",
    "age = 145\n",
    "print(\"Hallo, du heißt {} und bist {} Jahre alt\".format(first_name,age))\n",
    "print(f\"Hallo, du heißt {first_name} und bist {age} Jahre alt.\")"
   ]
  },
  {
   "cell_type": "code",
   "execution_count": 57,
   "metadata": {},
   "outputs": [
    {
     "name": "stdout",
     "output_type": "stream",
     "text": [
      "integer: 12 floating point: 14.3569 string: Hallo\n"
     ]
    }
   ],
   "source": [
    "print(f\"integer: {12:d} floating point: {14.356896:.4f} string: {\"Hallo\":s}\")"
   ]
  },
  {
   "cell_type": "markdown",
   "metadata": {},
   "source": [
    "# 7. Input"
   ]
  },
  {
   "cell_type": "markdown",
   "metadata": {},
   "source": [
    "**input** function allows to read data typed by the user with the keyboard. The program is stopped when this function is called until the user writes something. When the user presses the Return or Enter key, the program continues its execution and the input function returns what the user has typed as a string:"
   ]
  },
  {
   "cell_type": "code",
   "execution_count": 59,
   "metadata": {},
   "outputs": [
    {
     "name": "stdout",
     "output_type": "stream",
     "text": [
      "Hallo Albert, freut mich!\n"
     ]
    }
   ],
   "source": [
    "first_name = input(\"Please type your first name: \")\n",
    "print(f\"Hallo {first_name:s}, freut mich!\")"
   ]
  },
  {
   "cell_type": "markdown",
   "metadata": {},
   "source": [
    "It's important to note that the **input** function always returns a string. Keeping that in mind, one can make conversions to work with the desired types of values."
   ]
  },
  {
   "cell_type": "code",
   "execution_count": 60,
   "metadata": {},
   "outputs": [
    {
     "name": "stdout",
     "output_type": "stream",
     "text": [
      "<class 'str'>\n",
      "<class 'int'>\n"
     ]
    }
   ],
   "source": [
    "age_string = input(\"Please enter your age: \")\n",
    "age_integer = int(age_string)\n",
    "print(type(age_string))\n",
    "print(type(age_integer))"
   ]
  },
  {
   "cell_type": "markdown",
   "metadata": {},
   "source": [
    "Last but not least, Python also supports comments, which are mostly used to explain in natural language what a code or a part of the code does. Comments are marked using the symbol **#**."
   ]
  },
  {
   "cell_type": "code",
   "execution_count": 61,
   "metadata": {},
   "outputs": [
    {
     "name": "stdout",
     "output_type": "stream",
     "text": [
      "29\n"
     ]
    }
   ],
   "source": [
    "#prints the result of adding 20 and 9\n",
    "print(20+9)"
   ]
  },
  {
   "cell_type": "code",
   "execution_count": 62,
   "metadata": {},
   "outputs": [
    {
     "name": "stdout",
     "output_type": "stream",
     "text": [
      "22\n"
     ]
    }
   ],
   "source": [
    "print(30 - 8) #Comments can also be located at the end of the lines"
   ]
  },
  {
   "cell_type": "code",
   "execution_count": 63,
   "metadata": {},
   "outputs": [
    {
     "name": "stdout",
     "output_type": "stream",
     "text": [
      "Did I just missed something?\n"
     ]
    }
   ],
   "source": [
    "'''Lastly\n",
    "multiple\n",
    "line\n",
    "comments\n",
    "are\n",
    "also\n",
    "supported'''\n",
    "\n",
    "print(\"Did I just missed something?\")"
   ]
  },
  {
   "cell_type": "markdown",
   "metadata": {},
   "source": [
    "# Exercises"
   ]
  },
  {
   "cell_type": "markdown",
   "metadata": {},
   "source": [
    "1. Write a program which input is the base and the height of a triangle and print its area."
   ]
  },
  {
   "cell_type": "code",
   "execution_count": 67,
   "metadata": {},
   "outputs": [
    {
     "name": "stdout",
     "output_type": "stream",
     "text": [
      "The area of the triangle is 20.0 centimeters\n"
     ]
    }
   ],
   "source": [
    "base = int(input(\"Enter the base of the triangle in centimeters: \"))\n",
    "height = int(input(\"Enter the height of the triangle in centimeters: \"))\n",
    "print(f\"The area of the triangle is {base*height/2} centimeters\")"
   ]
  },
  {
   "cell_type": "markdown",
   "metadata": {},
   "source": [
    "2. Write a program which input is the price of a purchase and print the total value to pay after a 15% discount is applied to it."
   ]
  },
  {
   "cell_type": "code",
   "execution_count": 70,
   "metadata": {},
   "outputs": [
    {
     "name": "stdout",
     "output_type": "stream",
     "text": [
      "The total price after discount is 21.24$\n"
     ]
    }
   ],
   "source": [
    "price = float(input(\"Please enter the price of the item: \"))\n",
    "print(f\"The total price after discount is {price*0.85:.2f}$\")"
   ]
  },
  {
   "cell_type": "markdown",
   "metadata": {},
   "source": [
    "Note: Set of exercises taken out of the course \"Computer programming\" developed by professor Fabio Gonzales taught at Universidad Nacional de Colombia."
   ]
  }
 ],
 "metadata": {
  "kernelspec": {
   "display_name": ".venv",
   "language": "python",
   "name": "python3"
  },
  "language_info": {
   "codemirror_mode": {
    "name": "ipython",
    "version": 3
   },
   "file_extension": ".py",
   "mimetype": "text/x-python",
   "name": "python",
   "nbconvert_exporter": "python",
   "pygments_lexer": "ipython3",
   "version": "3.12.7"
  }
 },
 "nbformat": 4,
 "nbformat_minor": 2
}
