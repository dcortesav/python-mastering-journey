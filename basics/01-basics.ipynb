{
 "cells": [
  {
   "cell_type": "markdown",
   "metadata": {},
   "source": [
    "# Variables, data types, expressions, I/O"
   ]
  },
  {
   "cell_type": "markdown",
   "metadata": {},
   "source": [
    "## 1. Print sentence"
   ]
  },
  {
   "cell_type": "markdown",
   "metadata": {},
   "source": [
    "Traditionally, the first program written in a new language is called \"Hello world\". In Python it would be:"
   ]
  },
  {
   "cell_type": "code",
   "execution_count": null,
   "metadata": {},
   "outputs": [
    {
     "name": "stdout",
     "output_type": "stream",
     "text": [
      "Hallo Welt\n",
      "Testing git\n"
     ]
    }
   ],
   "source": [
    "print('Hallo Welt')\n",
    "print('Testing git')"
   ]
  },
  {
   "cell_type": "markdown",
   "metadata": {},
   "source": [
    "The previous was an example of the \"print\" sentence, which shows the value written in between parenthesis. At follows another example is shown, in which the number 4 is printed:"
   ]
  },
  {
   "cell_type": "code",
   "execution_count": 2,
   "metadata": {},
   "outputs": [
    {
     "name": "stdout",
     "output_type": "stream",
     "text": [
      "4\n"
     ]
    }
   ],
   "source": [
    "print(4)"
   ]
  },
  {
   "cell_type": "markdown",
   "metadata": {},
   "source": [
    "## 2. Values and data types"
   ]
  },
  {
   "cell_type": "markdown",
   "metadata": {},
   "source": [
    "Values are one of the fundamental elements that is manipulated by a program. We have already used two values so far, the number 5, and the string \"Hallo Welt\".\n",
    "\n",
    "These values are from a different **type**. The number 5 is considered as an integer (**int**), while the string is considered, well, as a string (**str**), which is basically a series of individual characters put together.\n",
    "\n",
    "If there is uncertainty about to which type a value belongs to, one can always ask Python:"
   ]
  },
  {
   "cell_type": "code",
   "execution_count": 3,
   "metadata": {},
   "outputs": [
    {
     "name": "stdout",
     "output_type": "stream",
     "text": [
      "Hallo Welt\n",
      "<class 'str'>\n"
     ]
    }
   ],
   "source": [
    "print(\"Hallo Welt\")\n",
    "print(type(\"Hallo Welt\"))"
   ]
  },
  {
   "cell_type": "code",
   "execution_count": 4,
   "metadata": {},
   "outputs": [
    {
     "name": "stdout",
     "output_type": "stream",
     "text": [
      "22\n",
      "<class 'int'>\n"
     ]
    }
   ],
   "source": [
    "print(22)\n",
    "print(type(22))"
   ]
  },
  {
   "cell_type": "markdown",
   "metadata": {},
   "source": [
    "Decimal numbers (point separated) belong to the **float** type, because of the name of its way to be represented (**floating-point**)."
   ]
  },
  {
   "cell_type": "code",
   "execution_count": 5,
   "metadata": {},
   "outputs": [
    {
     "name": "stdout",
     "output_type": "stream",
     "text": [
      "14.5\n",
      "<class 'float'>\n"
     ]
    }
   ],
   "source": [
    "print(14.5)\n",
    "print(type(14.5))"
   ]
  },
  {
   "cell_type": "markdown",
   "metadata": {},
   "source": [
    "What about then with the values \"22\" and \"14.5\"?. Well, although they look like numbers, because they are enclosed within quotation marks Python consider them as a string:"
   ]
  },
  {
   "cell_type": "code",
   "execution_count": 6,
   "metadata": {},
   "outputs": [
    {
     "name": "stdout",
     "output_type": "stream",
     "text": [
      "<class 'str'>\n",
      "<class 'str'>\n"
     ]
    }
   ],
   "source": [
    "print(type(\"22\"))\n",
    "print(type(\"14.5\"))"
   ]
  },
  {
   "cell_type": "markdown",
   "metadata": {},
   "source": [
    "In Python, strings can be enclosed within simple quotation marks (**'_'**), double quotation marks (**\"_\"**), or a sequence of triple quotations marks, either simple (**'''_'''**) or double (**\"\"\"_\"\"\"**)."
   ]
  },
  {
   "cell_type": "code",
   "execution_count": 7,
   "metadata": {},
   "outputs": [
    {
     "name": "stdout",
     "output_type": "stream",
     "text": [
      "<class 'str'>\n",
      "<class 'str'>\n",
      "<class 'str'>\n",
      "<class 'str'>\n"
     ]
    }
   ],
   "source": [
    "print(type('This is a string'))\n",
    "print(type(\"This one also\"))\n",
    "print(type('''This one as well'''))\n",
    "print(type(\"\"\"And this one\"\"\"))"
   ]
  },
  {
   "cell_type": "markdown",
   "metadata": {},
   "source": [
    "Strings within simple quotation marks can contain double quotation marks or viceversa:\n"
   ]
  },
  {
   "cell_type": "code",
   "execution_count": 8,
   "metadata": {},
   "outputs": [
    {
     "name": "stdout",
     "output_type": "stream",
     "text": [
      "He said that I was \"A pain in the ass\"\n",
      "That's Mr. Sander's chicken\n"
     ]
    }
   ],
   "source": [
    "print('He said that I was \"A pain in the ass\"')\n",
    "print(\"That's Mr. Sander's chicken\")"
   ]
  },
  {
   "cell_type": "markdown",
   "metadata": {},
   "source": [
    "The use of triple quotation marks allows the string to ocuppy more than one line in the output:"
   ]
  },
  {
   "cell_type": "code",
   "execution_count": 9,
   "metadata": {},
   "outputs": [
    {
     "name": "stdout",
     "output_type": "stream",
     "text": [
      "This is\n",
      "a message\n",
      "divided in three lines\n"
     ]
    }
   ],
   "source": [
    "print('''This is\n",
    "a message\n",
    "divided in three lines''')"
   ]
  },
  {
   "cell_type": "markdown",
   "metadata": {},
   "source": [
    "One can also use formatting keys (or characters) such as **\\n**:"
   ]
  },
  {
   "cell_type": "code",
   "execution_count": 10,
   "metadata": {},
   "outputs": [
    {
     "name": "stdout",
     "output_type": "stream",
     "text": [
      "This is\n",
      "a message\n",
      "divided in three lines\n"
     ]
    }
   ],
   "source": [
    "print('This is\\na message\\ndivided in three lines')"
   ]
  },
  {
   "cell_type": "markdown",
   "metadata": {},
   "source": [
    "One could be tempted to use comas or points when writting a large number such as one million, which is usually written as 1,000,000. However, this is going to be treated by Python, and more specifically, by the print sentence, as three different values. In fact, one can print as many values as one want as long as they are coma separated:"
   ]
  },
  {
   "cell_type": "code",
   "execution_count": 11,
   "metadata": {},
   "outputs": [
    {
     "name": "stdout",
     "output_type": "stream",
     "text": [
      "1 0 0\n",
      "1 0 000\n",
      "Failed attempts: 99 Attempst left: 14.2 (Yes, 14.2 does not make sense)\n"
     ]
    }
   ],
   "source": [
    "print(1,000,000)\n",
    "print(1,000,'000')\n",
    "print(\"Failed attempts:\",99,\"Attempst left:\",14.2,'(Yes, 14.2 does not make sense)')"
   ]
  },
  {
   "cell_type": "markdown",
   "metadata": {},
   "source": [
    "**Conversions:** Sometimes it becomes necesssary to convert values from one type to another. Python provides us with some simple functions to do so. Functions **int()**, **float()**, and **str()** will **attempt** to convert the value given as an argument to its respective type.\n",
    "\n",
    "We call this functions **\"Type functions\"**.\n",
    "\n",
    "For instance, the **int()** function can take a floating-point number or a string, and turn it to an integer. When converting from a floating-point number, the **int()** function **trunks** the number by skipping the decimal part. This process is known as **\"zero trunking\"**."
   ]
  },
  {
   "cell_type": "code",
   "execution_count": 12,
   "metadata": {},
   "outputs": [
    {
     "name": "stdout",
     "output_type": "stream",
     "text": [
      "14.28 14\n",
      "22.9999 22\n",
      "3.0 3\n",
      "-2.677 -2\n",
      "12789 12789\n",
      "<class 'str'> <class 'int'>\n"
     ]
    }
   ],
   "source": [
    "print(14.28, int(14.28))\n",
    "print(22.9999, int(22.9999))\n",
    "print(3.0, int(3.0))\n",
    "print(-2.677, int(-2.677))\n",
    "\n",
    "print(\"12789\", int(\"12789\"))\n",
    "print(type(\"12789\"), type(int(\"12789\")))"
   ]
  },
  {
   "cell_type": "markdown",
   "metadata": {},
   "source": [
    "As we said, these functions will attempt to do the conversion, however, it's not always possible:"
   ]
  },
  {
   "cell_type": "code",
   "execution_count": 13,
   "metadata": {},
   "outputs": [
    {
     "ename": "ValueError",
     "evalue": "invalid literal for int() with base 10: '99Attempts'",
     "output_type": "error",
     "traceback": [
      "\u001b[1;31m---------------------------------------------------------------------------\u001b[0m",
      "\u001b[1;31mValueError\u001b[0m                                Traceback (most recent call last)",
      "Cell \u001b[1;32mIn[13], line 1\u001b[0m\n\u001b[1;32m----> 1\u001b[0m \u001b[38;5;28mprint\u001b[39m(\u001b[38;5;28;43mint\u001b[39;49m\u001b[43m(\u001b[49m\u001b[38;5;124;43m'\u001b[39;49m\u001b[38;5;124;43m99Attempts\u001b[39;49m\u001b[38;5;124;43m'\u001b[39;49m\u001b[43m)\u001b[49m)\n",
      "\u001b[1;31mValueError\u001b[0m: invalid literal for int() with base 10: '99Attempts'"
     ]
    }
   ],
   "source": [
    "print(int('99Attempts'))"
   ]
  },
  {
   "cell_type": "markdown",
   "metadata": {},
   "source": [
    "As follows the **float()** function being used is shown:"
   ]
  },
  {
   "cell_type": "code",
   "execution_count": null,
   "metadata": {},
   "outputs": [
    {
     "name": "stdout",
     "output_type": "stream",
     "text": [
      "123.45 <class 'float'>\n",
      "123.45 <class 'str'>\n"
     ]
    }
   ],
   "source": [
    "print(float(\"123.45\"), type(float(\"123.45\")))\n",
    "print(str(123.45),type(str(123.45)))"
   ]
  },
  {
   "cell_type": "markdown",
   "metadata": {},
   "source": [
    "As a final notation, we can also write floating-point numbers using **scientific notation**:"
   ]
  },
  {
   "cell_type": "code",
   "execution_count": null,
   "metadata": {},
   "outputs": [
    {
     "name": "stdout",
     "output_type": "stream",
     "text": [
      "31600.0 <class 'float'>\n",
      "419000.0 <class 'float'>\n"
     ]
    }
   ],
   "source": [
    "print(3.16e4, type(3.16e4))\n",
    "print(4.19E5, type(4.19E5))\n"
   ]
  },
  {
   "cell_type": "markdown",
   "metadata": {},
   "source": [
    "## 3. Variables"
   ]
  },
  {
   "cell_type": "markdown",
   "metadata": {},
   "source": [
    "One of the most powerful characteristics of programing languages is their ability to store and manipulate values. A variable could be defined as a name that creates a reference to a value. The assignment sentence creates a new variable and assigns it a new value."
   ]
  },
  {
   "cell_type": "code",
   "execution_count": null,
   "metadata": {},
   "outputs": [],
   "source": [
    "message = 'Hallo, wie geht es dir?'\n",
    "intNumber = 42\n",
    "piNumber = 3.1416"
   ]
  },
  {
   "cell_type": "markdown",
   "metadata": {},
   "source": [
    "One should distinguish the assignment operator **(=)** from the equality token **(==)**"
   ]
  },
  {
   "cell_type": "code",
   "execution_count": null,
   "metadata": {},
   "outputs": [
    {
     "name": "stdout",
     "output_type": "stream",
     "text": [
      "True\n",
      "False\n"
     ]
    }
   ],
   "source": [
    "print(2 == 1 + 1)\n",
    "print(3 == 1 + 1)"
   ]
  },
  {
   "cell_type": "markdown",
   "metadata": {},
   "source": [
    "The print sentence also works with variables:"
   ]
  },
  {
   "cell_type": "code",
   "execution_count": null,
   "metadata": {},
   "outputs": [
    {
     "name": "stdout",
     "output_type": "stream",
     "text": [
      "Hallo, wie geht es dir?\n",
      "42\n",
      "3.1416\n"
     ]
    }
   ],
   "source": [
    "print(message)\n",
    "print(intNumber)\n",
    "print(piNumber)"
   ]
  }
 ],
 "metadata": {
  "kernelspec": {
   "display_name": ".venv",
   "language": "python",
   "name": "python3"
  },
  "language_info": {
   "codemirror_mode": {
    "name": "ipython",
    "version": 3
   },
   "file_extension": ".py",
   "mimetype": "text/x-python",
   "name": "python",
   "nbconvert_exporter": "python",
   "pygments_lexer": "ipython3",
   "version": "3.12.7"
  }
 },
 "nbformat": 4,
 "nbformat_minor": 2
}
