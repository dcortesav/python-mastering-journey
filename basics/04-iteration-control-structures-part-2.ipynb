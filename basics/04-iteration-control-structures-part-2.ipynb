{
 "cells": [
  {
   "cell_type": "markdown",
   "metadata": {},
   "source": [
    "# Iteration Control Structures - Part Two"
   ]
  },
  {
   "cell_type": "markdown",
   "metadata": {},
   "source": [
    "# 1. Further String Information\n",
    "\n",
    "Strings can be understood as lists of characters. Moreover, it's important to note that escape characters are also considered as characters in these lists."
   ]
  },
  {
   "cell_type": "code",
   "execution_count": 5,
   "metadata": {},
   "outputs": [
    {
     "name": "stdout",
     "output_type": "stream",
     "text": [
      "The string \"This is a String\" has 16 characters\n",
      "The string \"Spaces are characters themselves\" has 32 characters\n",
      "The string \"Spaces      are \t characters       themselves\" has 45 characters\n"
     ]
    }
   ],
   "source": [
    "string = 'This is a String'\n",
    "print(f'The string \"{string}\" has {len(string)} characters')\n",
    "string = 'Spaces are characters themselves'\n",
    "print(f'The string \"{string}\" has {len(string)} characters')\n",
    "string = 'Spaces      are \\t characters       themselves'\n",
    "print(f'The string \"{string}\" has {len(string)} characters')"
   ]
  },
  {
   "cell_type": "markdown",
   "metadata": {},
   "source": [
    "To obtain the character located at certain position in the String we use the same syntax as we use for lists (more on that later)."
   ]
  },
  {
   "cell_type": "code",
   "execution_count": 8,
   "metadata": {},
   "outputs": [
    {
     "name": "stdout",
     "output_type": "stream",
     "text": [
      "The english alphabet has 26 letters\n",
      "\n",
      "a\n",
      "b\n",
      "c\n",
      "z\n"
     ]
    }
   ],
   "source": [
    "alphabet = 'abcdefghijklmnopqrstuvxwyz'\n",
    "print(f'The english alphabet has {len(alphabet)} letters',end='\\n\\n')\n",
    "\n",
    "print(alphabet[0])\n",
    "print(alphabet[1])\n",
    "print(alphabet[2])\n",
    "print(alphabet[25])"
   ]
  },
  {
   "cell_type": "markdown",
   "metadata": {},
   "source": [
    "We can also obtain substrings by using the following syntax."
   ]
  },
  {
   "cell_type": "code",
   "execution_count": 20,
   "metadata": {},
   "outputs": [
    {
     "name": "stdout",
     "output_type": "stream",
     "text": [
      "This is the beginning\n",
      "and this is\n",
      "the end\n"
     ]
    }
   ],
   "source": [
    "text = 'This is the beginning, and this is the end'\n",
    "beginning = text[:21]\n",
    "middle = text[23:34]\n",
    "end = text[35:len(text)]\n",
    "print(beginning)\n",
    "print(middle)\n",
    "print(end)\n"
   ]
  },
  {
   "cell_type": "markdown",
   "metadata": {},
   "source": [
    "# 2. For Sentence"
   ]
  },
  {
   "cell_type": "markdown",
   "metadata": {},
   "source": [
    "Similar to the **`while`** sentence, repetitive tasks are conducted but with a slightly different approach. With the **`for`** sentence in Python, we always come to an end as long as the internal iteration structures are not modified during its execution.\n",
    "\n",
    "The end of a **`while`** loop depends on a certain condition, whereas a **`for`** loop traverse a range either of numbers or adjacent elements, as the ones in a String."
   ]
  },
  {
   "cell_type": "code",
   "execution_count": 21,
   "metadata": {},
   "outputs": [
    {
     "name": "stdout",
     "output_type": "stream",
     "text": [
      "I\n",
      "'\n",
      "m\n",
      " \n",
      "a\n",
      "n\n",
      " \n",
      "i\n",
      "t\n",
      "e\n",
      "r\n",
      "a\n",
      "b\n",
      "l\n",
      "e\n",
      " \n",
      "S\n",
      "t\n",
      "r\n",
      "i\n",
      "n\n",
      "g\n"
     ]
    }
   ],
   "source": [
    "for character in 'I\\'m an iterable String':\n",
    "    print(character)"
   ]
  },
  {
   "cell_type": "markdown",
   "metadata": {},
   "source": [
    "# 3. range() Function"
   ]
  },
  {
   "cell_type": "markdown",
   "metadata": {},
   "source": [
    "The **``range()``** function is used to iterate between two values using the **``for``** loop. The **``range()``** function receives minimum 1 parameter and maximum 3.\n",
    "\n",
    "The starting value is 0 by default and it always goes up to the upper limit value minus 1. Lets say that the lower and upper limits are a and b, then **``range(a,b)``** will take values from a up to b-1 to complete a total of b-a cycles. The third parameter that we can use to tune the way in which the function works is the step size of the change between the values from one iteration to another. For example, if one wants to traverse the interval [6, 11) in jumps of two, then the correct syntax would be **``range(6, 11, 2)``**"
   ]
  },
  {
   "cell_type": "code",
   "execution_count": 24,
   "metadata": {},
   "outputs": [
    {
     "name": "stdout",
     "output_type": "stream",
     "text": [
      "2\n",
      "3\n",
      "4\n",
      "5\n",
      "6\n"
     ]
    }
   ],
   "source": [
    "for i in range(2,7):\n",
    "    print(i)"
   ]
  },
  {
   "cell_type": "code",
   "execution_count": 27,
   "metadata": {},
   "outputs": [
    {
     "name": "stdout",
     "output_type": "stream",
     "text": [
      "i = 5\n",
      "i = 12\n",
      "i = 19\n",
      "i = 26\n",
      "i = 33\n"
     ]
    }
   ],
   "source": [
    "for i in range(5,40,7):\n",
    "    print(f'i = {i}')"
   ]
  },
  {
   "cell_type": "markdown",
   "metadata": {},
   "source": [
    "It's also easier to create tables using the **``for``** loop. An example is shown below."
   ]
  },
  {
   "cell_type": "code",
   "execution_count": 33,
   "metadata": {},
   "outputs": [
    {
     "name": "stdout",
     "output_type": "stream",
     "text": [
      "1\t2\t3\t4\t5\t6\t7\t8\t9\t10\t\n",
      "2\t4\t6\t8\t10\t12\t14\t16\t18\t20\t\n",
      "3\t6\t9\t12\t15\t18\t21\t24\t27\t30\t\n",
      "4\t8\t12\t16\t20\t24\t28\t32\t36\t40\t\n",
      "5\t10\t15\t20\t25\t30\t35\t40\t45\t50\t\n"
     ]
    }
   ],
   "source": [
    "for row in range(1,6):\n",
    "    for column in range(1,11):\n",
    "        print(row*column,end='\\t')\n",
    "    print()"
   ]
  }
 ],
 "metadata": {
  "kernelspec": {
   "display_name": ".venv",
   "language": "python",
   "name": "python3"
  },
  "language_info": {
   "codemirror_mode": {
    "name": "ipython",
    "version": 3
   },
   "file_extension": ".py",
   "mimetype": "text/x-python",
   "name": "python",
   "nbconvert_exporter": "python",
   "pygments_lexer": "ipython3",
   "version": "3.12.7"
  }
 },
 "nbformat": 4,
 "nbformat_minor": 2
}
