{
 "cells": [
  {
   "cell_type": "markdown",
   "metadata": {},
   "source": [
    "# Iteration Control Structures"
   ]
  },
  {
   "cell_type": "markdown",
   "metadata": {},
   "source": [
    "# 1. The **`while`** sentence"
   ]
  },
  {
   "cell_type": "markdown",
   "metadata": {},
   "source": [
    "One of the main things for which computers are often use is the automation of repetitive tasks. Python provides a couple of tools with which iterative processes can be carried out. The first one to look at is the **`while`** sentence."
   ]
  },
  {
   "cell_type": "code",
   "execution_count": 15,
   "metadata": {},
   "outputs": [
    {
     "name": "stdout",
     "output_type": "stream",
     "text": [
      "10\n",
      "9\n",
      "8\n",
      "7\n",
      "6\n",
      "5\n",
      "4\n",
      "3\n",
      "2\n",
      "1\n",
      "taking off\n"
     ]
    }
   ],
   "source": [
    "# Without iteration\n",
    "print(10)\n",
    "print(9)\n",
    "print(8)\n",
    "print(7)\n",
    "print(6)\n",
    "print(5)\n",
    "print(4)\n",
    "print(3)\n",
    "print(2)\n",
    "print(1)\n",
    "print('taking off')"
   ]
  },
  {
   "cell_type": "code",
   "execution_count": 16,
   "metadata": {},
   "outputs": [
    {
     "name": "stdout",
     "output_type": "stream",
     "text": [
      "10\n",
      "9\n",
      "8\n",
      "7\n",
      "6\n",
      "5\n",
      "4\n",
      "3\n",
      "2\n",
      "1\n",
      "Taking off\n"
     ]
    }
   ],
   "source": [
    "# Using the while sentence\n",
    "cycles = 10\n",
    "\n",
    "while cycles > 0:\n",
    "    print(cycles)\n",
    "    cycles -=1\n",
    "print('Taking off')"
   ]
  },
  {
   "cell_type": "markdown",
   "metadata": {},
   "source": [
    "It's really important to make sure that at some point the condition in the while sentece is no longer true, otherwise we will end up with an infinite cycle, which for most of the applications is something that we want to avoid.\n",
    "\n",
    "Something interesting to note is that it's not always easy to identify if we are converging to an specific condition during the execution of the code inside a **while** structure. A good example for this is the following problem, which has not been proved to converge to 1 for all values of **n** yet."
   ]
  },
  {
   "cell_type": "code",
   "execution_count": 17,
   "metadata": {},
   "outputs": [
    {
     "name": "stdout",
     "output_type": "stream",
     "text": [
      "25\n",
      "76\n",
      "38\n",
      "19\n",
      "58\n",
      "29\n",
      "88\n",
      "44\n",
      "22\n",
      "11\n",
      "34\n",
      "17\n",
      "52\n",
      "26\n",
      "13\n",
      "40\n",
      "20\n",
      "10\n",
      "5\n",
      "16\n",
      "8\n",
      "4\n",
      "2\n",
      "1\n"
     ]
    }
   ],
   "source": [
    "n = 25\n",
    "while n != 1:\n",
    "    print(n)\n",
    "    if n % 2 == 0:\n",
    "        n //= 2\n",
    "    else:\n",
    "        n = n*3 + 1\n",
    "print(n)"
   ]
  },
  {
   "cell_type": "markdown",
   "metadata": {},
   "source": [
    "# Tables"
   ]
  },
  {
   "cell_type": "markdown",
   "metadata": {},
   "source": [
    "One good aplication of the iteration control structures is the creation of tabular data. To ilustrate the concept, as follows a table that represents the maximum number that can be represented with a certain number of bits is created:"
   ]
  },
  {
   "cell_type": "code",
   "execution_count": 23,
   "metadata": {},
   "outputs": [
    {
     "name": "stdout",
     "output_type": "stream",
     "text": [
      "Bits\tMax Value\n",
      "----\t---------\n",
      "0\t0\n",
      "1\t1\n",
      "2\t3\n",
      "3\t7\n",
      "4\t15\n",
      "5\t31\n",
      "6\t63\n",
      "7\t127\n",
      "8\t255\n",
      "9\t511\n",
      "10\t1023\n",
      "11\t2047\n",
      "12\t4095\n"
     ]
    }
   ],
   "source": [
    "print('Bits\\tMax Value\\n----\\t---------')\n",
    "bits = 0\n",
    "while bits < 13:\n",
    "    print(f'{bits}\\t{2**bits-1}')\n",
    "    bits += 1\n"
   ]
  },
  {
   "cell_type": "markdown",
   "metadata": {},
   "source": [
    "We have used something that is known as **escape characters**. They are nothing else but a combination of characters that has a different meaning from the literal charachters it contains. More specifically, the escape characters **\\t** and **\\n** represent a tab and a line break respectively."
   ]
  },
  {
   "cell_type": "markdown",
   "metadata": {},
   "source": [
    "## Two-dimensional Tables"
   ]
  },
  {
   "cell_type": "markdown",
   "metadata": {},
   "source": [
    "It's pretty common that in practice the information that we deal with is better represented in a two-dimensional table (or matrix). For this matter, iteration control structures come in handy."
   ]
  },
  {
   "cell_type": "code",
   "execution_count": 27,
   "metadata": {},
   "outputs": [
    {
     "name": "stdout",
     "output_type": "stream",
     "text": [
      "2\t4\t6\t8\t10\t12\t14\t16\t18\t20\t\n",
      "3\t6\t9\t12\t15\t18\t21\t24\t27\t30\t\n",
      "4\t8\t12\t16\t20\t24\t28\t32\t36\t40\t\n",
      "5\t10\t15\t20\t25\t30\t35\t40\t45\t50\t\n"
     ]
    }
   ],
   "source": [
    "row = 2\n",
    "\n",
    "while row < 6:\n",
    "    column = 1\n",
    "    while column < 11:\n",
    "        print(f'{column*row}\\t',end='')\n",
    "        column += 1\n",
    "    print()\n",
    "    row += 1"
   ]
  }
 ],
 "metadata": {
  "kernelspec": {
   "display_name": ".venv",
   "language": "python",
   "name": "python3"
  },
  "language_info": {
   "codemirror_mode": {
    "name": "ipython",
    "version": 3
   },
   "file_extension": ".py",
   "mimetype": "text/x-python",
   "name": "python",
   "nbconvert_exporter": "python",
   "pygments_lexer": "ipython3",
   "version": "3.12.7"
  }
 },
 "nbformat": 4,
 "nbformat_minor": 2
}
