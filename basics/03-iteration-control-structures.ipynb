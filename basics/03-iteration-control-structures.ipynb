{
 "cells": [
  {
   "cell_type": "markdown",
   "metadata": {},
   "source": [
    "# Iteration Control Structures"
   ]
  },
  {
   "cell_type": "markdown",
   "metadata": {},
   "source": [
    "# 1. The **`while`** sentence"
   ]
  },
  {
   "cell_type": "markdown",
   "metadata": {},
   "source": [
    "One of the main things for which computers are often use is the automation of repetitive tasks. Python provides a couple of tools with which iterative processes can be carried out. The first one to look at is the **`while`** sentence."
   ]
  },
  {
   "cell_type": "code",
   "execution_count": 15,
   "metadata": {},
   "outputs": [
    {
     "name": "stdout",
     "output_type": "stream",
     "text": [
      "10\n",
      "9\n",
      "8\n",
      "7\n",
      "6\n",
      "5\n",
      "4\n",
      "3\n",
      "2\n",
      "1\n",
      "taking off\n"
     ]
    }
   ],
   "source": [
    "# Without iteration\n",
    "print(10)\n",
    "print(9)\n",
    "print(8)\n",
    "print(7)\n",
    "print(6)\n",
    "print(5)\n",
    "print(4)\n",
    "print(3)\n",
    "print(2)\n",
    "print(1)\n",
    "print('taking off')"
   ]
  },
  {
   "cell_type": "code",
   "execution_count": 16,
   "metadata": {},
   "outputs": [
    {
     "name": "stdout",
     "output_type": "stream",
     "text": [
      "10\n",
      "9\n",
      "8\n",
      "7\n",
      "6\n",
      "5\n",
      "4\n",
      "3\n",
      "2\n",
      "1\n",
      "Taking off\n"
     ]
    }
   ],
   "source": [
    "# Using the while sentence\n",
    "cycles = 10\n",
    "\n",
    "while cycles > 0:\n",
    "    print(cycles)\n",
    "    cycles -=1\n",
    "print('Taking off')"
   ]
  },
  {
   "cell_type": "markdown",
   "metadata": {},
   "source": [
    "It's really important to make sure that at some point the condition in the while sentece is no longer true, otherwise we will end up with an infinite cycle, which for most of the applications is something that we want to avoid.\n",
    "\n",
    "Something interesting to note is that it's not always easy to identify if we are converging to an specific condition during the execution of the code inside a **while** structure. A good example for this is the following problem, which has not been proved to converge to 1 for all values of **n** yet."
   ]
  },
  {
   "cell_type": "code",
   "execution_count": 17,
   "metadata": {},
   "outputs": [
    {
     "name": "stdout",
     "output_type": "stream",
     "text": [
      "25\n",
      "76\n",
      "38\n",
      "19\n",
      "58\n",
      "29\n",
      "88\n",
      "44\n",
      "22\n",
      "11\n",
      "34\n",
      "17\n",
      "52\n",
      "26\n",
      "13\n",
      "40\n",
      "20\n",
      "10\n",
      "5\n",
      "16\n",
      "8\n",
      "4\n",
      "2\n",
      "1\n"
     ]
    }
   ],
   "source": [
    "n = 25\n",
    "while n != 1:\n",
    "    print(n)\n",
    "    if n % 2 == 0:\n",
    "        n //= 2\n",
    "    else:\n",
    "        n = n*3 + 1\n",
    "print(n)"
   ]
  },
  {
   "cell_type": "markdown",
   "metadata": {},
   "source": [
    "# Tables"
   ]
  },
  {
   "cell_type": "markdown",
   "metadata": {},
   "source": [
    "One good aplication of the iteration control structures is the creation of tabular data. To ilustrate the concept, as follows a table that represents the maximum number that can be represented with a certain number of bits is created:"
   ]
  },
  {
   "cell_type": "code",
   "execution_count": 23,
   "metadata": {},
   "outputs": [
    {
     "name": "stdout",
     "output_type": "stream",
     "text": [
      "Bits\tMax Value\n",
      "----\t---------\n",
      "0\t0\n",
      "1\t1\n",
      "2\t3\n",
      "3\t7\n",
      "4\t15\n",
      "5\t31\n",
      "6\t63\n",
      "7\t127\n",
      "8\t255\n",
      "9\t511\n",
      "10\t1023\n",
      "11\t2047\n",
      "12\t4095\n"
     ]
    }
   ],
   "source": [
    "print('Bits\\tMax Value\\n----\\t---------')\n",
    "bits = 0\n",
    "while bits < 13:\n",
    "    print(f'{bits}\\t{2**bits-1}')\n",
    "    bits += 1\n"
   ]
  },
  {
   "cell_type": "markdown",
   "metadata": {},
   "source": [
    "We have used something that is known as **escape characters**. They are nothing else but a combination of characters that has a different meaning from the literal charachters it contains. More specifically, the escape characters **\\t** and **\\n** represent a tab and a line break respectively."
   ]
  },
  {
   "cell_type": "markdown",
   "metadata": {},
   "source": [
    "## Two-dimensional Tables"
   ]
  },
  {
   "cell_type": "markdown",
   "metadata": {},
   "source": [
    "It's pretty common that in practice the information that we deal with is better represented in a two-dimensional table (or matrix). For this matter, iteration control structures come in handy."
   ]
  },
  {
   "cell_type": "code",
   "execution_count": 27,
   "metadata": {},
   "outputs": [
    {
     "name": "stdout",
     "output_type": "stream",
     "text": [
      "2\t4\t6\t8\t10\t12\t14\t16\t18\t20\t\n",
      "3\t6\t9\t12\t15\t18\t21\t24\t27\t30\t\n",
      "4\t8\t12\t16\t20\t24\t28\t32\t36\t40\t\n",
      "5\t10\t15\t20\t25\t30\t35\t40\t45\t50\t\n"
     ]
    }
   ],
   "source": [
    "row = 2\n",
    "\n",
    "while row < 6:\n",
    "    column = 1\n",
    "    while column < 11:\n",
    "        print(f'{column*row}\\t',end='')\n",
    "        column += 1\n",
    "    print()\n",
    "    row += 1"
   ]
  },
  {
   "cell_type": "markdown",
   "metadata": {},
   "source": [
    "## Newton-Rhapson Method Implementation\n",
    "\n",
    "The Newton Rhapson method is used to approximate the zeros of a real-valued function.\n",
    "\n",
    "The approximation is given by the following formula:$$x_1 = x_0 - \\frac{f(x_0)}{f^´(x_0)}$$\n",
    "\n",
    "For the sake of the demonstration, as follows a Python implementation is created for the function $$f(x) = x^2 - 16$$"
   ]
  },
  {
   "cell_type": "code",
   "execution_count": 24,
   "metadata": {},
   "outputs": [
    {
     "name": "stdout",
     "output_type": "stream",
     "text": [
      "x = 20\tf(x) = 384\n",
      "x = 10.4\tf(x) = 92.16000000000001\n",
      "x = 5.969230769230769\tf(x) = 19.631715976331364\n",
      "x = 4.324821570182395\tf(x) = 2.704081613914912\n",
      "x = 4.012198081555918\tf(x) = 0.09773344564099062\n",
      "x = 4.00001854260316\tf(x) = 0.000148341169104782\n",
      "x = 4.000000000042978\tf(x) = 3.438245244069549e-10\n"
     ]
    }
   ],
   "source": [
    "import numpy as np\n",
    "\n",
    "def f(x):\n",
    "    return x**2 - 16\n",
    "\n",
    "def devf(x):\n",
    "    return 2*x\n",
    "\n",
    "seed = 20\n",
    "error = 0.00000001/100\n",
    "\n",
    "while  np.abs(f(seed)) > error:\n",
    "    print(f'x = {seed}\\tf(x) = {f(seed)}')\n",
    "    seed = seed - f(seed)/devf(seed)"
   ]
  },
  {
   "cell_type": "markdown",
   "metadata": {},
   "source": [
    "The real power of the Newton-Rhapson methoD becomes visible when dealing with functions, which zeros cannot be so easily found using analytical methods. One example would be $$f(x) = x\\sin(x) - \\pi^x + \\sqrt{10x}$$.\n",
    "\n",
    "In this case we will approximate the derivative of the function by a little change $\\Delta x$ for which $$\\Delta f(x) \\approx \\frac{f(x + \\Delta x) - f(x)}{\\Delta x}$$"
   ]
  },
  {
   "cell_type": "code",
   "execution_count": 26,
   "metadata": {},
   "outputs": [
    {
     "name": "stdout",
     "output_type": "stream",
     "text": [
      "x = 20\tf(x) = -8769956763.681652\n",
      "x = 19.126681451726146\tf(x) = -3227210145.820208\n",
      "x = 18.253362901706343\tf(x) = -1187564048.6118886\n",
      "x = 17.38004434384449\tf(x) = -437005433.74695396\n",
      "x = 16.506725782954387\tf(x) = -160811320.75244957\n",
      "x = 15.633407293970729\tf(x) = -59176100.82684387\n",
      "x = 14.76008913982834\tf(x) = -21775892.075495712\n",
      "x = 13.886771816011901\tf(x) = -8013190.595137881\n",
      "x = 13.013455556094236\tf(x) = -2948731.7380586914\n",
      "x = 12.140138790271353\tf(x) = -1085090.7294232566\n",
      "x = 11.266817268632705\tf(x) = -399297.9055628305\n",
      "x = 10.393493361349265\tf(x) = -146932.91231266232\n",
      "x = 9.520216768021989\tf(x) = -54063.41411216736\n",
      "x = 8.64716890359747\tf(x) = -19888.568171123396\n",
      "x = 7.77471306084167\tf(x) = -7315.012783723853\n",
      "x = 6.9031419321964425\tf(x) = -2690.9925149913665\n",
      "x = 6.031889037348192\tf(x) = -990.8658535403993\n",
      "x = 5.159291308423262\tf(x) = -364.70219962967104\n",
      "x = 4.287792241593838\tf(x) = -132.7766132130523\n",
      "x = 3.4419427893212053\tf(x) = -46.57498240054863\n",
      "x = 2.686033977218023\tf(x) = -15.280737703412541\n",
      "x = 2.09360042209013\tf(x) = -4.596307512831682\n",
      "x = 1.6996210459157695\tf(x) = -1.1896950214240674\n",
      "x = 1.5022389185223006\tf(x) = -0.2080350352269562\n",
      "x = 1.4502597170445057\tf(x) = -0.01216490508815804\n",
      "x = 1.446826684475732\tf(x) = -5.761727117237214e-05\n"
     ]
    }
   ],
   "source": [
    "import numpy as np\n",
    "def f(x):\n",
    "    return x*np.sin(x) - np.pi**x + np.sqrt(10*x)\n",
    "\n",
    "seed = 20\n",
    "delta = 0.0005\n",
    "error = 0.001/100\n",
    "\n",
    "while np.abs(f(seed)) > error:\n",
    "    print(f'x = {seed}\\tf(x) = {f(seed)}')\n",
    "    seed = seed - f(seed)/((f(seed + delta) - f(seed))/delta)"
   ]
  },
  {
   "cell_type": "markdown",
   "metadata": {},
   "source": [
    "# Exercises\n",
    "\n",
    "1. Read two integers (a and b) and print the first a multiplo of b"
   ]
  },
  {
   "cell_type": "code",
   "execution_count": 28,
   "metadata": {},
   "outputs": [
    {
     "name": "stdout",
     "output_type": "stream",
     "text": [
      "a = 10\tb = 2\n",
      "2\n",
      "4\n",
      "6\n",
      "8\n",
      "10\n",
      "12\n",
      "14\n",
      "16\n",
      "18\n",
      "20\n"
     ]
    }
   ],
   "source": [
    "a , b = map(int, input().split())\n",
    "counter = 1\n",
    "print(f'a = {a}\\tb = {b}')\n",
    "\n",
    "while counter < a + 1:\n",
    "    print(b*counter)\n",
    "    counter += 1"
   ]
  },
  {
   "cell_type": "markdown",
   "metadata": {},
   "source": [
    "**Note**: This material was taken and adapted from the book \"How to Think Like a Computer Scientist: Learning with Python 3\", and the course \"Computer Programming,\" developed by professor Fabio Gonzales and taught at the Universidad Nacional de Colombia. This notebook is a record of my Python learning journey."
   ]
  }
 ],
 "metadata": {
  "kernelspec": {
   "display_name": ".venv",
   "language": "python",
   "name": "python3"
  },
  "language_info": {
   "codemirror_mode": {
    "name": "ipython",
    "version": 3
   },
   "file_extension": ".py",
   "mimetype": "text/x-python",
   "name": "python",
   "nbconvert_exporter": "python",
   "pygments_lexer": "ipython3",
   "version": "3.12.7"
  }
 },
 "nbformat": 4,
 "nbformat_minor": 2
}
